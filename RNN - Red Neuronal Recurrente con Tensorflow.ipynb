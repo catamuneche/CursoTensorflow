{
 "cells": [
  {
   "cell_type": "markdown",
   "metadata": {},
   "source": [
    "# RNN - Red Neuronal Recurrente con Tensorflow"
   ]
  },
  {
   "cell_type": "markdown",
   "metadata": {},
   "source": [
    "Rnn con una capa de 3 neuronas desnrrolada 2 veces"
   ]
  },
  {
   "cell_type": "code",
   "execution_count": 1,
   "metadata": {},
   "outputs": [],
   "source": [
    "import tensorflow as tf\n",
    "import numpy as np"
   ]
  },
  {
   "cell_type": "code",
   "execution_count": 2,
   "metadata": {},
   "outputs": [],
   "source": [
    "numero_entradas = 2\n",
    "numero_neuronas = 3"
   ]
  },
  {
   "cell_type": "code",
   "execution_count": 3,
   "metadata": {},
   "outputs": [],
   "source": [
    "x0 = tf.placeholder(tf.float32, [None, numero_entradas])\n",
    "x1 = tf.placeholder(tf.float32, [None, numero_entradas])"
   ]
  },
  {
   "cell_type": "code",
   "execution_count": 4,
   "metadata": {},
   "outputs": [],
   "source": [
    "Wx = tf.Variable(tf.random_normal(shape=[numero_entradas,numero_neuronas]))\n",
    "Wy = tf.Variable(tf.random_normal(shape=[numero_neuronas,numero_neuronas]))\n",
    "b = tf.Variable(tf.zeros([1,numero_neuronas]))"
   ]
  },
  {
   "cell_type": "code",
   "execution_count": 5,
   "metadata": {},
   "outputs": [],
   "source": [
    "y0 = tf.tanh(tf.matmul(x0, Wx) + b)\n",
    "y1 = tf.tanh(tf.matmul(y0, Wy) + tf.matmul(x1, Wx) + b)"
   ]
  },
  {
   "cell_type": "code",
   "execution_count": 6,
   "metadata": {},
   "outputs": [],
   "source": [
    "lote_x0 = np.array([ [0,1], [2,3], [4,5]])\n",
    "lote_x1 = np.array([ [2,4], [3,9], [4,1]])"
   ]
  },
  {
   "cell_type": "code",
   "execution_count": 7,
   "metadata": {},
   "outputs": [],
   "source": [
    "init = tf.global_variables_initializer()"
   ]
  },
  {
   "cell_type": "code",
   "execution_count": 8,
   "metadata": {},
   "outputs": [],
   "source": [
    "with tf.Session() as sesion:\n",
    "    sesion.run(init)\n",
    "    salida_y0, salida_y1 = sesion.run([y0,y1], feed_dict = {x0:lote_x0, x1:lote_x1})"
   ]
  },
  {
   "cell_type": "code",
   "execution_count": 9,
   "metadata": {},
   "outputs": [
    {
     "data": {
      "text/plain": [
       "array([[ 0.04142252,  0.6545894 , -0.17877725],\n",
       "       [ 0.989578  , -0.7305815 , -0.8101231 ],\n",
       "       [ 0.9999404 , -0.98993176, -0.96890265]], dtype=float32)"
      ]
     },
     "execution_count": 9,
     "metadata": {},
     "output_type": "execute_result"
    }
   ],
   "source": [
    "salida_y0"
   ]
  },
  {
   "cell_type": "code",
   "execution_count": 10,
   "metadata": {},
   "outputs": [
    {
     "data": {
      "text/plain": [
       "array([[ 0.99677765,  0.49315876, -0.91797113],\n",
       "       [ 0.9895189 ,  0.9921277 , -0.0500468 ],\n",
       "       [ 0.99736416, -0.99990505,  0.87830997]], dtype=float32)"
      ]
     },
     "execution_count": 10,
     "metadata": {},
     "output_type": "execute_result"
    }
   ],
   "source": [
    "salida_y1"
   ]
  },
  {
   "cell_type": "code",
   "execution_count": null,
   "metadata": {},
   "outputs": [],
   "source": []
  },
  {
   "cell_type": "code",
   "execution_count": null,
   "metadata": {},
   "outputs": [],
   "source": []
  }
 ],
 "metadata": {
  "kernelspec": {
   "display_name": "Python 3",
   "language": "python",
   "name": "python3"
  },
  "language_info": {
   "codemirror_mode": {
    "name": "ipython",
    "version": 3
   },
   "file_extension": ".py",
   "mimetype": "text/x-python",
   "name": "python",
   "nbconvert_exporter": "python",
   "pygments_lexer": "ipython3",
   "version": "3.7.3"
  }
 },
 "nbformat": 4,
 "nbformat_minor": 2
}
